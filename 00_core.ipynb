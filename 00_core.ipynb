{
 "cells": [
  {
   "cell_type": "code",
   "execution_count": null,
   "metadata": {},
   "outputs": [],
   "source": [
    "# default_exp core"
   ]
  },
  {
   "cell_type": "markdown",
   "metadata": {},
   "source": [
    "## Simple funnel plots in Python\n",
    "\n",
    "This module plots funnel plots, which show the size of effect against the power\n",
    "of a statistical test.\n",
    "\n"
   ]
  },
  {
   "cell_type": "code",
   "execution_count": null,
   "metadata": {},
   "outputs": [],
   "source": [
    "from nbdev.showdoc import *"
   ]
  },
  {
   "cell_type": "code",
   "execution_count": null,
   "metadata": {},
   "outputs": [],
   "source": [
    "import scipy.stats\n",
    "import numpy as np\n",
    "import matplotlib.pyplot as plt\n",
    "from matplotlib.transforms import Bbox\n",
    "%matplotlib inline"
   ]
  },
  {
   "cell_type": "code",
   "execution_count": null,
   "metadata": {},
   "outputs": [],
   "source": [
    "def ci_width(group_size, band):\n",
    "        return band / np.sqrt(group_size)    "
   ]
  },
  {
   "cell_type": "code",
   "execution_count": null,
   "metadata": {},
   "outputs": [],
   "source": [
    "def expand_bbox(bbox, pct):    \n",
    "    \"\"\"\n",
    "    Given a matplotlib Bbox, return a bounding box centered on the same location,\n",
    "    but expanded/contracted by `pct`, which should be a floating point factor.\n",
    "    `pct=1.0` means the bounding box is unchanged; `pct=2.0` means doubling the size\n",
    "    in width and height, etc.\n",
    "    \"\"\"\n",
    "    w, h = bbox.x1 - bbox.x0,  bbox.y1 - bbox.y0        \n",
    "    cx, cy = (bbox.x0 + bbox.x1)/2, (bbox.y0 + bbox.y1)/2\n",
    "    \n",
    "    return Bbox.from_bounds(cx - (w * pct)/2,\n",
    "                            cy - (h * pct)/2,\n",
    "                            w*pct,\n",
    "                            h*pct)"
   ]
  },
  {
   "cell_type": "code",
   "execution_count": null,
   "metadata": {},
   "outputs": [],
   "source": [
    "                \n",
    "def annotate_label(ax, x, y, s, bboxs, left=False):    \n",
    "    \"\"\"Annotate a point `x,y` with the string `s`.\n",
    "    Avoid overlapping any of the bounding boxes in `bboxs` *and*\n",
    "    add the new bounding box for this element to `bboxs`. \n",
    "    If `left` draw the label to the left; otherwise to the right of the given\n",
    "    point.\"\"\"    \n",
    "    x_offset = 0.5\n",
    "    y_offset = -1.0\n",
    "    align = 'right' if left else 'left'    \n",
    "    found_good_placement = False\n",
    "    \n",
    "    while not found_good_placement:\n",
    "        x_offset += 0.5\n",
    "        y_offset += 1\n",
    "        x_off = x_offset * (-1 if left else 1)\n",
    "        ann = ax.text(x + x_off, y + y_offset, s, verticalalignment='center', horizontalalignment=align, alpha=0.5)\n",
    "        bbox = expand_bbox(ann.get_window_extent(ax.figure.canvas.get_renderer()), 1.05)\n",
    "        \n",
    "        found_good_placement = not any([b.overlaps(bbox) for b in bboxs])\n",
    "        if not found_good_placement:\n",
    "            ann.remove()        \n",
    "    # breakline plot\n",
    "    ax.plot([x+x_off*0.95, x+x_off*0.35, x], [y+y_offset, y+y_offset, y], alpha=0.1, c='k')        \n",
    "    bboxs.append(bbox)\n",
    "        \n",
    "        "
   ]
  },
  {
   "cell_type": "code",
   "execution_count": null,
   "metadata": {},
   "outputs": [],
   "source": [
    "#export\n",
    "def funnel_plot(data_groups, ax = None, ppf=scipy.stats.norm(0,1).ppf, percentage=0.95, labels=None):\n",
    "    \"\"\"Produce a funnel plot of data_groups, with std. err. bounds at the given percentile.\"\"\"\n",
    "    if ax is None:\n",
    "        ax = plt.gca()\n",
    "    \n",
    "    band = ppf(percentage)\n",
    "    \n",
    "    groups = sorted(data_groups, key=lambda x:len(x))\n",
    "    \n",
    "    # draw the funnel\n",
    "    max_group_len = max(*[len(g) for g in groups])\n",
    "    ys = np.arange(max_group_len+1)\n",
    "    ci = ci_width(ys, band)\n",
    "    ax.plot(ci, ys, 'k', alpha=0.2)\n",
    "    ax.plot(-ci, ys, 'k', alpha=0.2)\n",
    "    plt.fill_betweenx(ys, -ci, ci, alpha=0.1)\n",
    "\n",
    "    # combine into one population group\n",
    "    pop_group = np.concatenate(data_groups, axis=0)    \n",
    "    pop_mean, pop_std = np.mean(pop_group), np.std(pop_group)\n",
    "     \n",
    "    bboxs = []\n",
    "        \n",
    "    \n",
    "    # draw each group\n",
    "    for i, group in enumerate(groups):\n",
    "        mean, std = np.mean(group), np.std(group)\n",
    "        dev = (mean - pop_mean) / pop_std \n",
    "        \n",
    "        l = len(group)\n",
    "        span = ci_width(l, ppf(percentage))\n",
    "        if -span < dev < span:\n",
    "            ax.plot(dev, l, 'k.')                        \n",
    "        else:\n",
    "            left = dev<0\n",
    "            if labels:\n",
    "                annotate_label(ax, dev, len(group), labels[i], bboxs, left=left)\n",
    "            if left:\n",
    "                ax.plot(dev, len(group), 'C1o')\n",
    "            else:\n",
    "                ax.plot(dev, len(group), 'C2o')\n",
    "            \n",
    "       \n",
    "    ax.axvline(0.0, c='k', alpha=0.2)\n",
    "    \n",
    "    # force limit to be symmetrical \n",
    "    xlim = ax.get_xlim()\n",
    "    max_span = max(-xlim[0], xlim[1])\n",
    "    ax.set_xlim(-max_span*1.2, max_span*1.2)\n",
    "    \n",
    "    ax.set_xlabel(\"Z score\")\n",
    "    ax.set_ylabel(\"Group size\")\n",
    "    \n",
    "        "
   ]
  },
  {
   "cell_type": "markdown",
   "metadata": {},
   "source": [
    "Creates a funnel plot for a given set of data_groups, which should be a iterable of groups (e.g. as returned by Pandas `groupby()`). `percentage` sets the threshold for the funnel \"notability\" cutoff, that is, the confidence interval that is plotted. `labels` can optionally be a sequence of names the same length as `data_groups` which are the names of each group. Groups falling *outside* the funnel will be labeled with annotations if `labels` is present."
   ]
  },
  {
   "cell_type": "markdown",
   "metadata": {},
   "source": [
    "## Simple test"
   ]
  },
  {
   "cell_type": "code",
   "execution_count": null,
   "metadata": {},
   "outputs": [],
   "source": [
    "groups = []\n",
    "p_mean, p_std = 0, 1\n",
    "for i in range(25):\n",
    "    n_group = np.random.randint(2, 60)\n",
    "    g_std =  np.random.uniform(0.5, 2.5) \n",
    "    g_mean = np.random.uniform(-1.5, 0.5)\n",
    "    groups.append(np.random.normal(p_mean + g_mean, p_std + g_std, n_group))"
   ]
  },
  {
   "cell_type": "code",
   "execution_count": null,
   "metadata": {},
   "outputs": [
    {
     "name": "stderr",
     "output_type": "stream",
     "text": [
      "c:\\local\\anaconda3\\lib\\site-packages\\ipykernel_launcher.py:2: RuntimeWarning: divide by zero encountered in true_divide\n",
      "  \n"
     ]
    },
    {
     "data": {
      "image/png": "[encoded data removed]",
      "text/plain": [
       "<Figure size 432x432 with 1 Axes>"
      ]
     },
     "metadata": {
      "needs_background": "light"
     },
     "output_type": "display_data"
    }
   ],
   "source": [
    "import random\n",
    "ax, fig = plt.subplots(figsize=(6,6))\n",
    "funnel_plot(groups, labels=[random.choice(\"abcdefg\")*8 for i in range(len(groups))])   "
   ]
  },
  {
   "cell_type": "code",
   "execution_count": null,
   "metadata": {},
   "outputs": [
    {
     "ename": "ModuleNotFoundError",
     "evalue": "No module named 'pymc3'",
     "output_type": "error",
     "traceback": [
      "\u001b[1;31m---------------------------------------------------------------------------\u001b[0m",
      "\u001b[1;31mModuleNotFoundError\u001b[0m                       Traceback (most recent call last)",
      "\u001b[1;32m<ipython-input-404-aa07c748bda2>\u001b[0m in \u001b[0;36m<module>\u001b[1;34m\u001b[0m\n\u001b[1;32m----> 1\u001b[1;33m \u001b[1;32mimport\u001b[0m \u001b[0mpymc3\u001b[0m \u001b[1;32mas\u001b[0m \u001b[0mpm\u001b[0m\u001b[1;33m\u001b[0m\u001b[1;33m\u001b[0m\u001b[0m\n\u001b[0m\u001b[0;32m      2\u001b[0m \u001b[1;33m\u001b[0m\u001b[0m\n\u001b[0;32m      3\u001b[0m \u001b[1;32mdef\u001b[0m \u001b[0mbayesian_funnel_plot\u001b[0m\u001b[1;33m(\u001b[0m\u001b[0mmodel\u001b[0m\u001b[1;33m,\u001b[0m \u001b[0mdata\u001b[0m\u001b[1;33m)\u001b[0m\u001b[1;33m:\u001b[0m\u001b[1;33m\u001b[0m\u001b[1;33m\u001b[0m\u001b[0m\n\u001b[0;32m      4\u001b[0m     \u001b[1;32mpass\u001b[0m\u001b[1;33m\u001b[0m\u001b[1;33m\u001b[0m\u001b[0m\n\u001b[0;32m      5\u001b[0m \u001b[1;33m\u001b[0m\u001b[0m\n",
      "\u001b[1;31mModuleNotFoundError\u001b[0m: No module named 'pymc3'"
     ]
    }
   ],
   "source": [
    "import pymc3 as pm\n",
    "\n",
    "def bayesian_funnel_plot(model, data):\n",
    "    pass\n",
    "    "
   ]
  },
  {
   "cell_type": "code",
   "execution_count": null,
   "metadata": {},
   "outputs": [],
   "source": []
  },
  {
   "cell_type": "code",
   "execution_count": null,
   "metadata": {},
   "outputs": [],
   "source": []
  },
  {
   "cell_type": "code",
   "execution_count": null,
   "metadata": {},
   "outputs": [],
   "source": []
  }
 ],
 "metadata": {
  "kernelspec": {
   "display_name": "Python 3",
   "language": "python",
   "name": "python3"
  }
 },
 "nbformat": 4,
 "nbformat_minor": 2
}
